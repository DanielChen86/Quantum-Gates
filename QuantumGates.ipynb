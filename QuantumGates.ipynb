{
 "metadata": {
  "language_info": {
   "codemirror_mode": {
    "name": "ipython",
    "version": 3
   },
   "file_extension": ".py",
   "mimetype": "text/x-python",
   "name": "python",
   "nbconvert_exporter": "python",
   "pygments_lexer": "ipython3",
   "version": "3.8.3-final"
  },
  "orig_nbformat": 2,
  "kernelspec": {
   "name": "python38364bit1dc6f27468f449288c30b95b8f7e2b62",
   "display_name": "Python 3.8.3 64-bit",
   "language": "python"
  }
 },
 "nbformat": 4,
 "nbformat_minor": 2,
 "cells": [
  {
   "cell_type": "code",
   "execution_count": 1,
   "metadata": {},
   "outputs": [],
   "source": [
    "from QuantumGates import*"
   ]
  },
  {
   "cell_type": "code",
   "execution_count": 2,
   "metadata": {},
   "outputs": [],
   "source": [
    "T0=Operator(Tpi8,on_which=0)\n",
    "T1=Operator(Tpi8,on_which=1)\n",
    "T2=Operator(Tpi8,on_which=2)\n",
    "S1=Operator(Sphase,on_which=1)\n",
    "H0=Operator(Hadamard,on_which=0)\n",
    "H2=Operator(Hadamard,on_which=2)"
   ]
  },
  {
   "cell_type": "code",
   "execution_count": 3,
   "metadata": {},
   "outputs": [],
   "source": [
    "CX0=Operator(sigmaX,on_which=2,controllers=[0])\n",
    "CX1=Operator(sigmaX,on_which=2,controllers=[1])\n",
    "CZ0=Operator(sigmaZ,on_which=1,controllers=[0])\n",
    "CZ1=Operator(sigmaZ,on_which=0,controllers=[1])\n",
    "CX10=Operator(sigmaX,on_which=1,controllers=[0])\n",
    "Toffoli2=Operator(Toffoli,on_which=2,controllers=[0,1])"
   ]
  },
  {
   "cell_type": "code",
   "execution_count": 4,
   "metadata": {},
   "outputs": [],
   "source": [
    "RotX_theta=Operator(RotationX,on_which=0,angle=theta)\n",
    "RotX_phi=Operator(RotationX,on_which=0,angle=phi)"
   ]
  },
  {
   "cell_type": "code",
   "execution_count": 5,
   "metadata": {},
   "outputs": [
    {
     "output_type": "execute_result",
     "data": {
      "text/plain": [
       "True"
      ]
     },
     "metadata": {},
     "execution_count": 5
    }
   ],
   "source": [
    "CZ0==CZ1\n",
    "# should be True"
   ]
  },
  {
   "cell_type": "code",
   "execution_count": 6,
   "metadata": {},
   "outputs": [
    {
     "output_type": "execute_result",
     "data": {
      "text/plain": [
       "True"
      ]
     },
     "metadata": {},
     "execution_count": 6
    }
   ],
   "source": [
    "H0*H2*CX0*H0*H2==Operator(sigmaX,on_which=0,controllers=[2])\n",
    "# should be True"
   ]
  },
  {
   "cell_type": "code",
   "execution_count": 7,
   "metadata": {},
   "outputs": [
    {
     "output_type": "execute_result",
     "data": {
      "text/plain": [
       "True"
      ]
     },
     "metadata": {},
     "execution_count": 7
    }
   ],
   "source": [
    "(S1*T0*CX10*T1.adjoint()*CX10*H2*T2*T1.adjoint()*CX0*T2.adjoint()*CX1*T2*CX0*T2.adjoint()*CX1*H2)==Toffoli2\n",
    "# should be True"
   ]
  },
  {
   "cell_type": "code",
   "execution_count": 8,
   "metadata": {},
   "outputs": [
    {
     "output_type": "execute_result",
     "data": {
      "text/plain": [
       "Matrix([\n",
       "[   cos(phi/2 + theta/2),                       0,                       0,                       0, -I*sin(phi/2 + theta/2),                       0,                       0,                       0],\n",
       "[                      0,    cos(phi/2 + theta/2),                       0,                       0,                       0, -I*sin(phi/2 + theta/2),                       0,                       0],\n",
       "[                      0,                       0,    cos(phi/2 + theta/2),                       0,                       0,                       0, -I*sin(phi/2 + theta/2),                       0],\n",
       "[                      0,                       0,                       0,    cos(phi/2 + theta/2),                       0,                       0,                       0, -I*sin(phi/2 + theta/2)],\n",
       "[-I*sin(phi/2 + theta/2),                       0,                       0,                       0,    cos(phi/2 + theta/2),                       0,                       0,                       0],\n",
       "[                      0, -I*sin(phi/2 + theta/2),                       0,                       0,                       0,    cos(phi/2 + theta/2),                       0,                       0],\n",
       "[                      0,                       0, -I*sin(phi/2 + theta/2),                       0,                       0,                       0,    cos(phi/2 + theta/2),                       0],\n",
       "[                      0,                       0,                       0, -I*sin(phi/2 + theta/2),                       0,                       0,                       0,    cos(phi/2 + theta/2)]])"
      ],
      "text/latex": "$\\displaystyle \\left[\\begin{matrix}\\cos{\\left(\\frac{\\phi}{2} + \\frac{\\theta}{2} \\right)} & 0 & 0 & 0 & - i \\sin{\\left(\\frac{\\phi}{2} + \\frac{\\theta}{2} \\right)} & 0 & 0 & 0\\\\0 & \\cos{\\left(\\frac{\\phi}{2} + \\frac{\\theta}{2} \\right)} & 0 & 0 & 0 & - i \\sin{\\left(\\frac{\\phi}{2} + \\frac{\\theta}{2} \\right)} & 0 & 0\\\\0 & 0 & \\cos{\\left(\\frac{\\phi}{2} + \\frac{\\theta}{2} \\right)} & 0 & 0 & 0 & - i \\sin{\\left(\\frac{\\phi}{2} + \\frac{\\theta}{2} \\right)} & 0\\\\0 & 0 & 0 & \\cos{\\left(\\frac{\\phi}{2} + \\frac{\\theta}{2} \\right)} & 0 & 0 & 0 & - i \\sin{\\left(\\frac{\\phi}{2} + \\frac{\\theta}{2} \\right)}\\\\- i \\sin{\\left(\\frac{\\phi}{2} + \\frac{\\theta}{2} \\right)} & 0 & 0 & 0 & \\cos{\\left(\\frac{\\phi}{2} + \\frac{\\theta}{2} \\right)} & 0 & 0 & 0\\\\0 & - i \\sin{\\left(\\frac{\\phi}{2} + \\frac{\\theta}{2} \\right)} & 0 & 0 & 0 & \\cos{\\left(\\frac{\\phi}{2} + \\frac{\\theta}{2} \\right)} & 0 & 0\\\\0 & 0 & - i \\sin{\\left(\\frac{\\phi}{2} + \\frac{\\theta}{2} \\right)} & 0 & 0 & 0 & \\cos{\\left(\\frac{\\phi}{2} + \\frac{\\theta}{2} \\right)} & 0\\\\0 & 0 & 0 & - i \\sin{\\left(\\frac{\\phi}{2} + \\frac{\\theta}{2} \\right)} & 0 & 0 & 0 & \\cos{\\left(\\frac{\\phi}{2} + \\frac{\\theta}{2} \\right)}\\end{matrix}\\right]$"
     },
     "metadata": {},
     "execution_count": 8
    }
   ],
   "source": [
    "show(RotX_theta*RotX_phi)\n",
    "# should be a matrix"
   ]
  },
  {
   "cell_type": "code",
   "execution_count": null,
   "metadata": {},
   "outputs": [],
   "source": []
  }
 ]
}